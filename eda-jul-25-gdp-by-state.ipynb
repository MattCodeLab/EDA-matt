{
 "cells": [
  {
   "cell_type": "code",
   "execution_count": 1,
   "metadata": {},
   "outputs": [
    {
     "name": "stderr",
     "output_type": "stream",
     "text": [
      "Matplotlib is building the font cache; this may take a moment.\n"
     ]
    }
   ],
   "source": [
    "import pandas as pd\n",
    "import seaborn as sns\n",
    "import pyarrow as pa"
   ]
  },
  {
   "cell_type": "code",
   "execution_count": 3,
   "metadata": {},
   "outputs": [],
   "source": [
    "# Data Source\n",
    "url = 'https://storage.dosm.gov.my/gdp/gdp_state_real_supply.parquet'\n",
    "gdp_by_state = pd.read_parquet(url)"
   ]
  },
  {
   "cell_type": "code",
   "execution_count": 4,
   "metadata": {},
   "outputs": [
    {
     "data": {
      "text/html": [
       "<div>\n",
       "<style scoped>\n",
       "    .dataframe tbody tr th:only-of-type {\n",
       "        vertical-align: middle;\n",
       "    }\n",
       "\n",
       "    .dataframe tbody tr th {\n",
       "        vertical-align: top;\n",
       "    }\n",
       "\n",
       "    .dataframe thead th {\n",
       "        text-align: right;\n",
       "    }\n",
       "</style>\n",
       "<table border=\"1\" class=\"dataframe\">\n",
       "  <thead>\n",
       "    <tr style=\"text-align: right;\">\n",
       "      <th></th>\n",
       "      <th>series</th>\n",
       "      <th>date</th>\n",
       "      <th>state</th>\n",
       "      <th>sector</th>\n",
       "      <th>value</th>\n",
       "    </tr>\n",
       "  </thead>\n",
       "  <tbody>\n",
       "    <tr>\n",
       "      <th>0</th>\n",
       "      <td>abs</td>\n",
       "      <td>2015-01-01</td>\n",
       "      <td>Johor</td>\n",
       "      <td>p0</td>\n",
       "      <td>110002.221</td>\n",
       "    </tr>\n",
       "    <tr>\n",
       "      <th>1</th>\n",
       "      <td>abs</td>\n",
       "      <td>2015-01-01</td>\n",
       "      <td>Johor</td>\n",
       "      <td>p1</td>\n",
       "      <td>15610.314</td>\n",
       "    </tr>\n",
       "    <tr>\n",
       "      <th>2</th>\n",
       "      <td>abs</td>\n",
       "      <td>2015-01-01</td>\n",
       "      <td>Johor</td>\n",
       "      <td>p2</td>\n",
       "      <td>475.640</td>\n",
       "    </tr>\n",
       "    <tr>\n",
       "      <th>3</th>\n",
       "      <td>abs</td>\n",
       "      <td>2015-01-01</td>\n",
       "      <td>Johor</td>\n",
       "      <td>p3</td>\n",
       "      <td>32358.659</td>\n",
       "    </tr>\n",
       "    <tr>\n",
       "      <th>4</th>\n",
       "      <td>abs</td>\n",
       "      <td>2015-01-01</td>\n",
       "      <td>Johor</td>\n",
       "      <td>p4</td>\n",
       "      <td>7269.160</td>\n",
       "    </tr>\n",
       "    <tr>\n",
       "      <th>...</th>\n",
       "      <td>...</td>\n",
       "      <td>...</td>\n",
       "      <td>...</td>\n",
       "      <td>...</td>\n",
       "      <td>...</td>\n",
       "    </tr>\n",
       "    <tr>\n",
       "      <th>1899</th>\n",
       "      <td>growth_yoy</td>\n",
       "      <td>2023-01-01</td>\n",
       "      <td>Supra</td>\n",
       "      <td>p2</td>\n",
       "      <td>3.803</td>\n",
       "    </tr>\n",
       "    <tr>\n",
       "      <th>1900</th>\n",
       "      <td>growth_yoy</td>\n",
       "      <td>2023-01-01</td>\n",
       "      <td>Supra</td>\n",
       "      <td>p3</td>\n",
       "      <td>NaN</td>\n",
       "    </tr>\n",
       "    <tr>\n",
       "      <th>1901</th>\n",
       "      <td>growth_yoy</td>\n",
       "      <td>2023-01-01</td>\n",
       "      <td>Supra</td>\n",
       "      <td>p4</td>\n",
       "      <td>NaN</td>\n",
       "    </tr>\n",
       "    <tr>\n",
       "      <th>1902</th>\n",
       "      <td>growth_yoy</td>\n",
       "      <td>2023-01-01</td>\n",
       "      <td>Supra</td>\n",
       "      <td>p5</td>\n",
       "      <td>NaN</td>\n",
       "    </tr>\n",
       "    <tr>\n",
       "      <th>1903</th>\n",
       "      <td>growth_yoy</td>\n",
       "      <td>2023-01-01</td>\n",
       "      <td>Supra</td>\n",
       "      <td>p6</td>\n",
       "      <td>NaN</td>\n",
       "    </tr>\n",
       "  </tbody>\n",
       "</table>\n",
       "<p>1904 rows × 5 columns</p>\n",
       "</div>"
      ],
      "text/plain": [
       "          series       date  state sector       value\n",
       "0            abs 2015-01-01  Johor     p0  110002.221\n",
       "1            abs 2015-01-01  Johor     p1   15610.314\n",
       "2            abs 2015-01-01  Johor     p2     475.640\n",
       "3            abs 2015-01-01  Johor     p3   32358.659\n",
       "4            abs 2015-01-01  Johor     p4    7269.160\n",
       "...          ...        ...    ...    ...         ...\n",
       "1899  growth_yoy 2023-01-01  Supra     p2       3.803\n",
       "1900  growth_yoy 2023-01-01  Supra     p3         NaN\n",
       "1901  growth_yoy 2023-01-01  Supra     p4         NaN\n",
       "1902  growth_yoy 2023-01-01  Supra     p5         NaN\n",
       "1903  growth_yoy 2023-01-01  Supra     p6         NaN\n",
       "\n",
       "[1904 rows x 5 columns]"
      ]
     },
     "execution_count": 4,
     "metadata": {},
     "output_type": "execute_result"
    }
   ],
   "source": [
    "gdp_by_state"
   ]
  },
  {
   "cell_type": "code",
   "execution_count": 6,
   "metadata": {},
   "outputs": [
    {
     "name": "stdout",
     "output_type": "stream",
     "text": [
      "Unique values in 'series' column:\n",
      "['abs' 'growth_yoy']\n",
      "\n",
      "Unique values in 'state' column:\n",
      "['Johor' 'Kedah' 'Kelantan' 'Melaka' 'Negeri Sembilan' 'Pahang' 'Perak'\n",
      " 'Perlis' 'Pulau Pinang' 'Sabah' 'Sarawak' 'Selangor' 'Terengganu'\n",
      " 'W.P. Kuala Lumpur' 'W.P. Labuan' 'Supra']\n",
      "\n",
      "Unique values in 'sector' column:\n",
      "['p0' 'p1' 'p2' 'p3' 'p4' 'p5' 'p6']\n",
      "\n",
      "Unique values in 'date' column:\n",
      "<DatetimeArray>\n",
      "['2015-01-01 00:00:00', '2016-01-01 00:00:00', '2017-01-01 00:00:00',\n",
      " '2018-01-01 00:00:00', '2019-01-01 00:00:00', '2020-01-01 00:00:00',\n",
      " '2021-01-01 00:00:00', '2022-01-01 00:00:00', '2023-01-01 00:00:00']\n",
      "Length: 9, dtype: datetime64[us]\n",
      "\n",
      "Unique values in 'value' column (first 10):\n",
      "[1.10002221e+05 1.56103140e+04 4.75640000e+02 3.23586590e+04\n",
      " 7.26916000e+03 5.30584470e+04 1.23000100e+03 3.95495810e+04\n",
      " 5.42336800e+03 8.30560000e+01]\n"
     ]
    }
   ],
   "source": [
    "# Show unique values for each column in the DataFrame\n",
    "print(\"Unique values in 'series' column:\")\n",
    "print(gdp_by_state['series'].unique())\n",
    "print(\"\\nUnique values in 'state' column:\")\n",
    "print(gdp_by_state['state'].unique())\n",
    "print(\"\\nUnique values in 'sector' column:\")\n",
    "print(gdp_by_state['sector'].unique())\n",
    "print(\"\\nUnique values in 'date' column:\")\n",
    "print(gdp_by_state['date'].unique())\n",
    "print(\"\\nUnique values in 'value' column (first 10):\")\n",
    "print(gdp_by_state['value'].unique()[:10])\n"
   ]
  }
 ],
 "metadata": {
  "kernelspec": {
   "display_name": ".venv",
   "language": "python",
   "name": "python3"
  },
  "language_info": {
   "codemirror_mode": {
    "name": "ipython",
    "version": 3
   },
   "file_extension": ".py",
   "mimetype": "text/x-python",
   "name": "python",
   "nbconvert_exporter": "python",
   "pygments_lexer": "ipython3",
   "version": "3.13.5"
  }
 },
 "nbformat": 4,
 "nbformat_minor": 2
}
