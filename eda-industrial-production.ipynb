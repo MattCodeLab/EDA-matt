{
 "cells": [
  {
   "cell_type": "code",
   "execution_count": 1,
   "metadata": {},
   "outputs": [],
   "source": [
    "import pandas as pd\n",
    "import matplotlib.pyplot as plt"
   ]
  },
  {
   "cell_type": "code",
   "execution_count": 8,
   "metadata": {},
   "outputs": [],
   "source": [
    "def read_parquet_by_name(name, src_path='src.csv'):\n",
    "    src_df = pd.read_csv(src_path)\n",
    "    result = src_df.loc[src_df['name'] == name, 'links']\n",
    "    if not result.empty:\n",
    "        url = result.values[0]\n",
    "        df = pd.read_parquet(url)\n",
    "        if 'date' in df.columns:\n",
    "            df['date'] = pd.to_datetime(df['date'])\n",
    "        return df\n",
    "    else:\n",
    "        raise ValueError(f\"No URL found for name: {name}\")\n",
    "\n",
    "ipi = read_parquet_by_name('IPI')"
   ]
  },
  {
   "cell_type": "code",
   "execution_count": null,
   "metadata": {},
   "outputs": [],
   "source": []
  }
 ],
 "metadata": {
  "kernelspec": {
   "display_name": ".venv",
   "language": "python",
   "name": "python3"
  },
  "language_info": {
   "codemirror_mode": {
    "name": "ipython",
    "version": 3
   },
   "file_extension": ".py",
   "mimetype": "text/x-python",
   "name": "python",
   "nbconvert_exporter": "python",
   "pygments_lexer": "ipython3",
   "version": "3.13.5"
  }
 },
 "nbformat": 4,
 "nbformat_minor": 2
}
